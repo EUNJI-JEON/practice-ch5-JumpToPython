{
 "cells": [
  {
   "cell_type": "markdown",
   "metadata": {},
   "source": [
    "##### 모듈이란 함수나 변수, 클래스를 모아 놓은 파일. 모듈은 다른 파이썬 프로그램에서 불러와 사용할 수 있게끔 만들어진 파이썬 파일. 다른 사람이 이미 만들어둔 모듈을 사용할 수도 있고 우리가 직접 모듈을 만들어 사용할 수도 있음"
   ]
  },
  {
   "cell_type": "markdown",
   "metadata": {},
   "source": [
    "### 모듈 만들기"
   ]
  },
  {
   "cell_type": "code",
   "execution_count": null,
   "metadata": {},
   "outputs": [],
   "source": [
    "def add(a,b):\n",
    "    return a+b\n",
    "\n",
    "def sub(a,b):\n",
    "    return a-b\n",
    "\n",
    "#이 모듈을 mod1.py라는 파일에 저장."
   ]
  },
  {
   "cell_type": "markdown",
   "metadata": {},
   "source": [
    "### 모듈 불러오기"
   ]
  },
  {
   "cell_type": "code",
   "execution_count": 1,
   "metadata": {},
   "outputs": [
    {
     "name": "stdout",
     "output_type": "stream",
     "text": [
      "7\n",
      "2\n"
     ]
    }
   ],
   "source": [
    "import mod1\n",
    "print(mod1.add(3,4))\n",
    "print(mod1.sub(4,2))"
   ]
  },
  {
   "cell_type": "markdown",
   "metadata": {},
   "source": [
    "##### import는 현재 디렉터리에 있는 파일이나 파이썬 라이브러리가 저장된 디렉터리에 있는 모듈만 불러올 수 있음.\n"
   ]
  },
  {
   "cell_type": "markdown",
   "metadata": {},
   "source": [
    "##### mod1.add,mod1.sub처럼 쓰지 않고 그냥 add,sub처럼 모듈명 없이 함수명만으로 쓰고 싶은 경우에는 from 모듈이름 import 모듈함수를 사용하면 됨"
   ]
  },
  {
   "cell_type": "code",
   "execution_count": 2,
   "metadata": {},
   "outputs": [
    {
     "data": {
      "text/plain": [
       "7"
      ]
     },
     "execution_count": 2,
     "metadata": {},
     "output_type": "execute_result"
    }
   ],
   "source": [
    "from mod1 import add\n",
    "add(3,4)"
   ]
  },
  {
   "cell_type": "code",
   "execution_count": 3,
   "metadata": {},
   "outputs": [],
   "source": [
    "#아래처럼 모듈함수 여러개 불러오기 가능\n",
    "from mod1 import add, sub\n",
    "from mod1 import *"
   ]
  },
  {
   "cell_type": "markdown",
   "metadata": {},
   "source": [
    "if __name__ == \"__main__\": 의 의미"
   ]
  },
  {
   "cell_type": "code",
   "execution_count": null,
   "metadata": {},
   "outputs": [],
   "source": [
    "###if __name__ == \"__main__\": 의 의미"
   ]
  },
  {
   "cell_type": "code",
   "execution_count": 4,
   "metadata": {},
   "outputs": [
    {
     "name": "stdout",
     "output_type": "stream",
     "text": [
      "5\n",
      "2\n"
     ]
    }
   ],
   "source": [
    "#mod1.py를 다음과 같이 변경\n",
    "def add(a, b): \n",
    "    return a+b\n",
    "\n",
    "def sub(a, b): \n",
    "    return a-b\n",
    "\n",
    "print(add(1, 4))\n",
    "print(sub(4, 2))"
   ]
  },
  {
   "cell_type": "code",
   "execution_count": 5,
   "metadata": {},
   "outputs": [],
   "source": [
    "import mod1"
   ]
  },
  {
   "cell_type": "code",
   "execution_count": 6,
   "metadata": {},
   "outputs": [
    {
     "name": "stdout",
     "output_type": "stream",
     "text": [
      "<module 'mod1' from '/Users/jeon-eunji/Downloads/practice-ch5-JumpToPython/mod1.py'>\n"
     ]
    }
   ],
   "source": [
    "print(mod1)"
   ]
  },
  {
   "cell_type": "code",
   "execution_count": 7,
   "metadata": {},
   "outputs": [
    {
     "name": "stdout",
     "output_type": "stream",
     "text": [
      "5\n",
      "2\n"
     ]
    }
   ],
   "source": [
    "#mod1.py를 실행하면 print 결과값이 출력됨. \n",
    "#add와 sub함수만 사용하려면 mod1.py를 다음과 같이 변경해야함\n",
    "def add(a, b): \n",
    "    return a+b\n",
    "\n",
    "def sub(a, b): \n",
    "    return a-b\n",
    "\n",
    "if __name__ == \"__main__\":\n",
    "    print(add(1, 4))\n",
    "    print(sub(4, 2))\n"
   ]
  },
  {
   "cell_type": "markdown",
   "metadata": {},
   "source": [
    "##### if __name__ == \"__main__\"을 사용하면 직접 mod1.py를 실행시켰을 땐 if문이 참이되어 print값들이 출력됨.\n",
    "##### 반대로 대화형 인터프리터나 다른파일에서 이 모듈을 불러 사용하면 if문이 거짓이 되어 다음 문장들이 수행되지 않음.\n"
   ]
  },
  {
   "cell_type": "markdown",
   "metadata": {},
   "source": [
    "##### <__name__> 변수는 파이썬이 내부적으로 사용하는 특별한 변수명\n",
    "##### 터미널이나 프롬프트에서 mod1.py를 직접 실행하면 mod1.py의 __name__ 변수에는 __main__이라는 값이 저장됨. 하지만 파이썬 쉘이나 다른 파이썬 모듈에서 mod1을 import하면 mod1.py의 __name__ 변수에는 mod1이라는 mod1.py의 모듈이름값이 저장됨."
   ]
  },
  {
   "cell_type": "markdown",
   "metadata": {},
   "source": [
    "### 클래스나 변수 등을 포함한 모듈"
   ]
  },
  {
   "cell_type": "code",
   "execution_count": 8,
   "metadata": {},
   "outputs": [],
   "source": [
    "# 지금까지 살펴본 모듈은 함수만 포함했지만, 클래스나 변수 등을 포함할 수도 있음\n",
    "# 다음의 프로그램을 작성해 mod2.py에 저장해보자\n",
    "PI = 3.141592\n",
    "\n",
    "class Math: \n",
    "    def solv(self, r): \n",
    "        return PI * (r ** 2) \n",
    "\n",
    "def add(a, b): \n",
    "    return a+b \n"
   ]
  },
  {
   "cell_type": "code",
   "execution_count": 9,
   "metadata": {},
   "outputs": [
    {
     "name": "stdout",
     "output_type": "stream",
     "text": [
      "3.141592\n"
     ]
    }
   ],
   "source": [
    "import mod2\n",
    "print(mod2.PI)"
   ]
  },
  {
   "cell_type": "code",
   "execution_count": 10,
   "metadata": {},
   "outputs": [
    {
     "name": "stdout",
     "output_type": "stream",
     "text": [
      "12.566368\n"
     ]
    }
   ],
   "source": [
    "a=mod2.Math()\n",
    "print(a.solv(2))"
   ]
  },
  {
   "cell_type": "code",
   "execution_count": 11,
   "metadata": {},
   "outputs": [
    {
     "name": "stdout",
     "output_type": "stream",
     "text": [
      "7.5415920000000005\n"
     ]
    }
   ],
   "source": [
    "print(mod2.add(mod2.PI,4.4))"
   ]
  },
  {
   "cell_type": "markdown",
   "metadata": {},
   "source": [
    "### 다른 파일에서 모듈 불러오기"
   ]
  },
  {
   "cell_type": "code",
   "execution_count": 12,
   "metadata": {},
   "outputs": [
    {
     "name": "stdout",
     "output_type": "stream",
     "text": [
      "7\n"
     ]
    }
   ],
   "source": [
    "#modtest.py에 아래 코드를 작성해서 저장.\n",
    "import mod2\n",
    "result = mod2.add(3,4)\n",
    "print(result)\n",
    "#이처럼 다른 파이썬 파일에서도 import mod2로 mod2를 불러와 사용 가능\n",
    "#이 예제가 정상적으로 실행되기 위해서는 modtest.py와 mod2.py가\n",
    "#동일한 디렉터리에 있어야함."
   ]
  },
  {
   "cell_type": "markdown",
   "metadata": {},
   "source": [
    "### 모듈을 불러오는 또 다른 방법"
   ]
  },
  {
   "cell_type": "code",
   "execution_count": null,
   "metadata": {},
   "outputs": [],
   "source": [
    "#'''C:\\Users\\pahkey>cd C:\\doit \n",
    "#C:\\doit>mkdir mymod\n",
    "#C:\\doit>move mod2.py mymod\n",
    "\n",
    "#mod2.py를 C:\\doit\\mymod 로 이동"
   ]
  },
  {
   "cell_type": "markdown",
   "metadata": {},
   "source": [
    "#### 1.sys.path.append 사용"
   ]
  },
  {
   "cell_type": "code",
   "execution_count": 13,
   "metadata": {},
   "outputs": [
    {
     "data": {
      "text/plain": [
       "['/Users/jeon-eunji/Downloads/practice-ch5-JumpToPython',\n",
       " '/anaconda3/lib/python37.zip',\n",
       " '/anaconda3/lib/python3.7',\n",
       " '/anaconda3/lib/python3.7/lib-dynload',\n",
       " '',\n",
       " '/anaconda3/lib/python3.7/site-packages',\n",
       " '/anaconda3/lib/python3.7/site-packages/aeosa',\n",
       " '/anaconda3/lib/python3.7/site-packages/IPython/extensions',\n",
       " '/Users/jeon-eunji/.ipython']"
      ]
     },
     "execution_count": 13,
     "metadata": {},
     "output_type": "execute_result"
    }
   ],
   "source": [
    "import sys\n",
    "sys.path"
   ]
  },
  {
   "cell_type": "markdown",
   "metadata": {},
   "source": [
    "##### sys 모듈은 파이썬을 설치할 때 함께 설치되는 라이브러리 모듈이다.이 sys 모듈을 이용하면 파이썬 라이브러리가 설치되어 있는 디렉터리를 확인할 수 있다."
   ]
  },
  {
   "cell_type": "markdown",
   "metadata": {},
   "source": [
    "##### sys.path는 파이썬 라이브러리들이 설치되어 있는 디렉터리들을 보여 준다. 만약 파이썬 모듈이 위의 디렉터리에 들어 있다면 모듈이 저장된 디렉터리로 이동할 필요없이 바로 불러서 사용할 수가 있다. 그렇다면 sys.path에 C:\\doit\\mymod라는 디렉터리를 추가하면 아무데서나 불러 사용할 수 있지 않을까?\n",
    "\n"
   ]
  },
  {
   "cell_type": "markdown",
   "metadata": {},
   "source": [
    "##### sys.path.append(\"C:/doit/mymod\") 하고\n",
    "##### sys.path하면 마지막 요소에 C:/doit/mymod라고 추가된 것을 확인할 수 있다."
   ]
  },
  {
   "cell_type": "markdown",
   "metadata": {},
   "source": [
    "##### 2.PYTHONPATH 환경 변수 사용하기"
   ]
  },
  {
   "cell_type": "code",
   "execution_count": null,
   "metadata": {},
   "outputs": [],
   "source": [
    "#C:\\doit>set PYTHONPATH=C:\\doit\\mymod\n",
    "#C:\\doit>python\n",
    "#>>> import mod2\n",
    "#>>> print(mod2.add(3,4))\n",
    "#7\n"
   ]
  },
  {
   "cell_type": "markdown",
   "metadata": {},
   "source": [
    "##### set 명령어를 이용해 PYTHONPATH 환경 변수에 mod2.py 파일이 있는 C:\\doit\\mymod 디렉터리를 설정한다. 그러면 디렉터리 이동이나 별도의 모듈 추가 작업 없이 mod2 모듈을 불러와서 사용할 수 있다."
   ]
  },
  {
   "cell_type": "markdown",
   "metadata": {},
   "source": [
    "### 연습문제"
   ]
  },
  {
   "cell_type": "markdown",
   "metadata": {},
   "source": [
    "##### 모듈 사용하기1"
   ]
  },
  {
   "cell_type": "markdown",
   "metadata": {},
   "source": [
    "##### c:\\doit 이라는 디렉토리에 mymod.py 라는 파이썬 모듈이 있다고 가정하고 파이썬 shell에서 이 모듈을 import 해서 사용할 수 있는 방법에 대해서 모두 기술하시오."
   ]
  },
  {
   "cell_type": "markdown",
   "metadata": {},
   "source": [
    "##### 1)sys 모듈 사용하기:sys.path 에 c:\\doit 이라는 디렉토리를 추가하면 c:\\doit 이라는 디렉토리에 있는 mymod 모듈을 사용할 수 있게 된다. \n",
    "##### import sys\n",
    "##### sys.path.append(\"c:/doit\")\n",
    "##### import mymod"
   ]
  },
  {
   "cell_type": "markdown",
   "metadata": {},
   "source": [
    "##### 2)PYTHONPATH 환경변수 사용하기\n",
    "##### set PYTHONPATH=c:\\doit\n",
    "##### import mymod"
   ]
  },
  {
   "cell_type": "markdown",
   "metadata": {},
   "source": [
    "#### 3) 현재 디렉터리 이용하기\n",
    "##### 파이썬 shell을 mymod.py 가 있는 위치로 이동하여 실행해도 mymod 모듈을 이용할 수 있게 된다\n",
    "##### C:\\Users\\home>cd c:\\doit\n",
    "##### C:\\doit>python\n",
    "##### import mymod"
   ]
  },
  {
   "cell_type": "code",
   "execution_count": null,
   "metadata": {},
   "outputs": [],
   "source": []
  }
 ],
 "metadata": {
  "kernelspec": {
   "display_name": "Python 3",
   "language": "python",
   "name": "python3"
  },
  "language_info": {
   "codemirror_mode": {
    "name": "ipython",
    "version": 3
   },
   "file_extension": ".py",
   "mimetype": "text/x-python",
   "name": "python",
   "nbconvert_exporter": "python",
   "pygments_lexer": "ipython3",
   "version": "3.7.1"
  }
 },
 "nbformat": 4,
 "nbformat_minor": 2
}
