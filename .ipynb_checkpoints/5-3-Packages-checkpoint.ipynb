{
 "cells": [
  {
   "cell_type": "markdown",
   "metadata": {},
   "source": [
    "### 패키지란?"
   ]
  },
  {
   "cell_type": "markdown",
   "metadata": {},
   "source": [
    "##### 패키지(Packages)는 도트(.)를 이용하여 파이썬 모듈을 계층적(디렉터리 구조)으로 관리할 수 있게 해준다. 예를 들어 모듈명이 A.B인 경우 A는 패키지명이 되고 B는 A 패키지의 B 모듈이 된다."
   ]
  },
  {
   "cell_type": "code",
   "execution_count": null,
   "metadata": {},
   "outputs": [],
   "source": [
    "game/\n",
    "    __init__.py\n",
    "    sound/\n",
    "        __init__.py\n",
    "        echo.py\n",
    "        wav.py\n",
    "    graphic/\n",
    "        __init__.py\n",
    "        screen.py\n",
    "        render.py\n",
    "    play/\n",
    "        __init__.py\n",
    "        run.py\n",
    "        test.py"
   ]
  },
  {
   "cell_type": "markdown",
   "metadata": {},
   "source": [
    "##### game, sound, graphic, play는 디렉터리명이고 .py 확장자를 가지는 파일은 파이썬 모듈이다. game 디렉터리가 이 패키지의 루트 디렉터리이고 sound, graphic, play는 서브 디렉터리이다.\n",
    "\n"
   ]
  },
  {
   "cell_type": "markdown",
   "metadata": {},
   "source": [
    "### 패키지 만들기"
   ]
  },
  {
   "cell_type": "markdown",
   "metadata": {},
   "source": [
    "1. C:/doit이라는 디렉터리 밑에 game 및 기타 서브 디렉터리들을 생성하고 \n",
    "    .py 파일들을 다음과 같이 만들어 보자\n",
    "    (만약 C:/doit이라는 디렉터리가 없다면 먼저 생성하고 진행하자).\n",
    "    \n",
    "    C:/doit/game/__init__.py\n",
    "    \n",
    "    C:/doit/game/sound/__init__.py\n",
    "    \n",
    "    C:/doit/game/sound/echo.py\n",
    "    \n",
    "    C:/doit/game/graphic/__init__.py\n",
    "    \n",
    "    C:/doit/game/graphic/render.py"
   ]
  },
  {
   "cell_type": "markdown",
   "metadata": {},
   "source": [
    "2. 각 디렉터리에 __init__.py 파일을 만들어 놓기만 하고 내용은 일단 비워 둔다.\n",
    "\n",
    "3. echo.py 파일은 다음과 같이 만든다.\n",
    "\n",
    "    echo.py\n",
    "    def echo_test():\n",
    "    print (\"echo\")\n",
    "    "
   ]
  },
  {
   "cell_type": "markdown",
   "metadata": {},
   "source": [
    "4. render.py 파일은 다음과 같이 만든다.\n",
    "\n",
    "    render.py\n",
    "    def render_test():\n",
    "        print (\"render\")\n"
   ]
  },
  {
   "cell_type": "markdown",
   "metadata": {},
   "source": [
    "5. 다음 예제들을 수행하기 전에 우리가 만든 game 패키지를 참조할 수 있도록 다음과 같이 명령 프롬프트 창에서 set 명령을 이용하여 PYTHONPATH 환경 변수에 C:/doit 디렉터리를 추가한다. 그리고 파이썬 인터프리터(Interactive shell)를 실행하자.\n",
    "\n",
    "C:\\> set PYTHONPATH=C:/doit\n",
    "\n",
    "C:\\> python\n",
    "\n",
    "Type \"help\", \"copyright\", \"credits\" or \"license\" for more information.\n"
   ]
  },
  {
   "cell_type": "markdown",
   "metadata": {},
   "source": [
    "### 패키지 안의 함수 실행하기"
   ]
  },
  {
   "cell_type": "markdown",
   "metadata": {},
   "source": [
    "자, 이제 패키지를 이용하여 echo.py 파일의 echo_test 함수를 실행해 보자. 패키지 안의 함수를 실행하는 방법은 다음과 같이 3가지가 있다.\n",
    "첫 번째는 echo 모듈을 import하여 실행하는 방법으로, 다음과 같이 실행한다.\n",
    "\n",
    "import game.sound.echo\n",
    "\n",
    "game.sound.echo.echo_test()\n",
    "\n",
    "echo"
   ]
  },
  {
   "cell_type": "markdown",
   "metadata": {},
   "source": [
    "두 번째는 echo 모듈이 있는 디렉터리까지를 from ... import하여 실행하는 방법이다.\n",
    "\n",
    "from game.sound import echo\n",
    "\n",
    "echo.echo_test()\n",
    "\n",
    "echo\n"
   ]
  },
  {
   "cell_type": "markdown",
   "metadata": {},
   "source": [
    "세 번째는 echo 모듈의 echo_test 함수를 직접 import하여 실행하는 방법이다.\n",
    "\n",
    "from game.sound.echo import echo_test\n",
    "\n",
    "echo_test()\n",
    "\n",
    "echo"
   ]
  },
  {
   "cell_type": "markdown",
   "metadata": {},
   "source": [
    "하지만 다음과 같이 echo_test 함수를 사용하는 것은 불가능하다.\n",
    "\n",
    "import game\n",
    "\n",
    "game.sound.echo.echo_test()\n",
    "\n",
    "Traceback (most recent call last):\n",
    "    \n",
    "    File \"<stdin>\", line 1, in <module>\n",
    "AttributeError: 'module' object has no attribute 'sound'\n",
    "\n",
    "위처럼 import game을 수행하면 game 디렉터리의 모듈 또는 game 디렉터리의 __init__.py에 정의된 것들만 참조할 수 있다.\n",
    "\n"
   ]
  },
  {
   "cell_type": "markdown",
   "metadata": {},
   "source": [
    "또 다음처럼 echo_test 함수를 사용하는 것도 불가능하다.\n",
    "\n",
    "import game.sound.echo.echo_test\n",
    "\n",
    "Traceback (most recent call last):\n",
    "    File \"<stdin>\", line 1, in <module>\n",
    "    \n",
    "ImportError: No module named echo_test\n",
    "    \n",
    "도트 연산자(.)를 사용해서 import a.b.c처럼 import할 때 가장 마지막 항목인 c는 반드시 모듈 또는 패키지여야만 한다.\n",
    "\n"
   ]
  },
  {
   "cell_type": "code",
   "execution_count": null,
   "metadata": {},
   "outputs": [],
   "source": []
  },
  {
   "cell_type": "markdown",
   "metadata": {},
   "source": [
    "### _.__init__.py의 용도"
   ]
  },
  {
   "cell_type": "markdown",
   "metadata": {},
   "source": [
    "##### __init__.py 파일은 해당 디렉터리가 패키지의 일부임을 알려주는 역할을 한다. 만약 game, sound, graphic등 패키지에 포함된 디렉터리에 __init__.py 파일이 없다면 패키지로 인식되지 않는다."
   ]
  },
  {
   "cell_type": "markdown",
   "metadata": {},
   "source": [
    "##### python3.3 버전부터는 __init__.py 파일 없이도 패키지로 인식이 된다(PEP 420). 하지만 하위 버전 호환을 위해 __init__.py 파일을 생성하는 것이 안전한 방법이다."
   ]
  },
  {
   "cell_type": "markdown",
   "metadata": {},
   "source": [
    "### relative 패키지"
   ]
  },
  {
   "cell_type": "markdown",
   "metadata": {},
   "source": [
    "만약 graphic 디렉터리의 render.py 모듈이 sound 디렉터리의 echo.py 모듈을 사용하고 싶다면 어떻게 해야 할까? 다음과 같이 render.py를 수정하면 가능하다.\n",
    "\n",
    "render.py\n",
    "\n",
    "from game.sound.echo import echo_test\n",
    "\n",
    "def render_test():\n",
    "\n",
    "    print (\"render\")\n",
    "    \n",
    "echo_test()\n",
    "    \n",
    "from game.sound.echo import echo_test라는 문장을 추가하여 echo_test() 함수를 사용할 수 있도록 수정했다.\n",
    "\n"
   ]
  },
  {
   "cell_type": "markdown",
   "metadata": {},
   "source": [
    "위 예제처럼 from game.sound.echo import echo_test와 같이 전체 경로를 이용하여 import할 수도 있지만 다음과 같이 relative하게 import하는 것도 가능하다.\n",
    "\n",
    "ender.py\n",
    "\n",
    "from ..sound.echo import echo_test\n",
    "\n",
    "def render_test():\n",
    "\n",
    "    print (\"render\")\n",
    "    \n",
    "echo_test()\n"
   ]
  },
  {
   "cell_type": "markdown",
   "metadata": {},
   "source": [
    "from game.sound.echo import echo_test가 \n",
    "\n",
    "from ..sound.echo import echo_test로 변경되었다. 여기서 ..은 부모 디렉터리를 의미한다. graphic과 sound 디렉터리는 동일한 깊이(depth)이므로 부모 디렉터리(..)를 이용하여 위와 같은 import가 가능한 것이다.\n",
    "\n",
    "relative한 접근자에는 다음과 같은 것들이 있다.\n",
    "\n",
    ".. – 부모 디렉터리\n",
    ". – 현재 디렉터리\n",
    "\n",
    "..과 같은 relative한 접근자는 render.py와 같이 모듈 안에서만 사용해야 한다. 파이썬 인터프리터에서 relative한 접근자를 사용하면 \"SystemError: cannot perform relative import\"와 같은 오류가 발생한다."
   ]
  },
  {
   "cell_type": "code",
   "execution_count": null,
   "metadata": {},
   "outputs": [],
   "source": []
  }
 ],
 "metadata": {
  "kernelspec": {
   "display_name": "Python 3",
   "language": "python",
   "name": "python3"
  },
  "language_info": {
   "codemirror_mode": {
    "name": "ipython",
    "version": 3
   },
   "file_extension": ".py",
   "mimetype": "text/x-python",
   "name": "python",
   "nbconvert_exporter": "python",
   "pygments_lexer": "ipython3",
   "version": "3.7.1"
  }
 },
 "nbformat": 4,
 "nbformat_minor": 2
}
